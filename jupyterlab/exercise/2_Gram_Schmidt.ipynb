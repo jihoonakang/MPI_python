{
 "cells": [
  {
   "cell_type": "markdown",
   "metadata": {},
   "source": [
    "## 2. Gram-Schmidt "
   ]
  },
  {
   "cell_type": "markdown",
   "metadata": {
    "slideshow": {
     "slide_type": "slide"
    }
   },
   "source": [
    "### 2.1. 개요\n",
    "  \n",
    "  - 직교화(orthogonalization)는 벡터공간에서 서로 직교하는 정규 기저1(orthonormal basis)를 찾는 과정으로서 수치적 선형대수가 활용되는 대부분의 분야에서 빈번하게 사용됨.\n",
    "  \n",
    "  - Gram-Schmidt 과정은 직교화의 방법 중 하나로 다음과 같은 알고리즘으로 진행.\n",
    "  \n",
    "    <img src = \"images/image12.png\" width=\"70%\" height=\"70%\">\n",
    "\n",
    "    <img src = \"images/image13.png\" width=\"70%\" height=\"70%\">"
   ]
  },
  {
   "cell_type": "markdown",
   "metadata": {
    "slideshow": {
     "slide_type": "slide"
    }
   },
   "source": [
    "  - 이를 전개하여 표현하면 다음곽 같음.\n",
    "\n",
    "  $$\\bf{u} _1 = \\bf{v} _1$$\n",
    "  \n",
    "  $$\\bf{u} _2 = \\bf{v} _2 - \\frac{\\langle \\bf{v _2}, \\bf{u}_{1} \\rangle}{\\left\\| \\bf{u}_{1} \\right\\| ^{2}} \\bf{u}_{1} $$\n",
    "\n",
    "  $$\\bf{u} _3 = \\bf{v} _3 - \\frac{\\langle \\bf{v _3}, \\bf{u}_{2} \\rangle}{\\left\\| \\bf{u}_{2} \\right\\| ^{2}} \\bf{u}_{2}-\\frac{\\langle \\bf{v _3}, \\bf{u}_{1} \\rangle}{\\left\\| \\bf{u}_{1} \\right\\| ^{2}} \\bf{u}_{1}$$\n",
    "    \n",
    "  $$ \\vdots $$\n",
    "  \n",
    "  $$ \\bf{u} _n \n",
    "    = \\bf{v} _n - \\frac{\\langle \\bf{v _n}, \\bf{u}_{n-1} \\rangle}{\\left\\| \\bf{u}_{n-1} \\right\\| ^{2}} \\bf{u}_{n-1}\n",
    "    - \\frac{\\langle \\bf{v _n}, \\bf{u}_{n-2} \\rangle}{\\left\\| \\bf{u}_{n-2} \\right\\| ^{2}} \\bf{u}_{n-2}\n",
    "    - \\cdots \n",
    "    - \\frac{\\langle \\bf{v _n}, \\bf{u}_{1} \\rangle}{\\left\\| \\bf{u}_{1} \\right\\| ^{2}} \\bf{u}_{1}$$"
   ]
  },
  {
   "cell_type": "markdown",
   "metadata": {
    "slideshow": {
     "slide_type": "slide"
    }
   },
   "source": [
    "  - 2차원 벡터에 대한 Gram-Schmidt 과정\n",
    "  \n",
    "  <img src = \"images/image14.png\">\n"
   ]
  },
  {
   "cell_type": "markdown",
   "metadata": {},
   "source": [
    "### 2.2. QR 분해\n",
    "\n",
    "  - 다음과 같이 $\\bf{A}$를 분해\n",
    "\n",
    "  $$ \\bf{A} = \\bf{QR} $$\n",
    "\n",
    "  - 여기서 $\\bf{Q}$의 열벡터는 $\\bf{A}$의 열벡터가 span하는 공간 $S$의 직교 기저 벡터이며, $\\bf{R}$는 Upper triangular matrix임\n",
    "  \n",
    "  - $\\bf{A}$ 의 열벡터 ${ \\bf{a}_i}$ 들은 Gram-Schmidt 과정을 거쳐 얻어진 정규 직교 벡터 ${ (\\bf{u}_1, \\bf{u}_2, \\cdots, \\bf{u}_n)}$ 에 대해 다음을 만족\n",
    "  \n",
    "  $$ \\bf{a} _i\n",
    "  = \\langle \\bf{a} _i, \\bf{u}_{1} \\rangle \\bf{u}_{1} + \n",
    "  \\langle \\bf{a} _i, \\bf{u}_{2} \\rangle \\bf{u}_{2} + \\cdots +\n",
    "  \\langle \\bf{a} _i, \\bf{u}_{n} \\rangle \\bf{u}_{n} $$"
   ]
  },
  {
   "cell_type": "code",
   "execution_count": 4,
   "metadata": {
    "slideshow": {
     "slide_type": "slide"
    }
   },
   "outputs": [],
   "source": [
    "import numpy as np\n",
    "\n",
    "# 10개의 20차원 벡터\n",
    "N = 10\n",
    "D = 20\n",
    "v = np.random.rand(D, N)\n",
    "\n",
    "np.save(\"v\", v)"
   ]
  },
  {
   "cell_type": "code",
   "execution_count": null,
   "metadata": {
    "slideshow": {
     "slide_type": "slide"
    }
   },
   "outputs": [],
   "source": [
    "# QR 분해 : Q의 열벡터가 정규기저벡터\n",
    "import numpy as np\n",
    "\n",
    "v = np.load(\"v.npy\")\n",
    "print(v)\n",
    "Q, R = np.linalg.qr(v)\n",
    "print(Q)\n",
    "print(R)\n",
    "print(np.linalg.norm(Q[0]))"
   ]
  },
  {
   "cell_type": "markdown",
   "metadata": {
    "slideshow": {
     "slide_type": "slide"
    }
   },
   "source": [
    "1. 순차코드\n",
    "   \n",
    "  - 열벡터를 행벡터로 전환\n",
    "  - 메모리 접근이 효율적임"
   ]
  },
  {
   "cell_type": "code",
   "execution_count": null,
   "metadata": {},
   "outputs": [],
   "source": [
    "import numpy as np\n",
    "\n",
    "V = np.transpose(v).copy()\n",
    "print(V)\n",
    "for j in range (N) :\n",
    "    for i in range (j) :\n",
    "        coef = -np.dot(V[i], V[j])\n",
    "        V[j] = V[j] + coef * V[i]\n",
    "    coef = np.linalg.norm(V[j])\n",
    "    V[j] = V[j] / coef\n",
    "\n",
    "print(V)"
   ]
  },
  {
   "cell_type": "markdown",
   "metadata": {},
   "source": [
    "2. 병렬코드\n",
    "\n",
    "  - 의존성 분석\n",
    "    - $u_i$들은 순차적으로 계산됨 : $u_i$를 위해 $u_{i-1}, \\cdots, u_{1}$이 필요\n",
    "    - $u_i, v_i$의 각 $i$ 성분 계산은 독립적임 : 이를 나누어 계산하며 벡터 분할과 동일\n",
    "  \n",
    "  <img src = \"images/image03.png\">"
   ]
  },
  {
   "cell_type": "code",
   "execution_count": null,
   "metadata": {},
   "outputs": [],
   "source": [
    "%%writefile gs.py\n",
    "import numpy as np\n",
    "from mpi4py import MPI\n",
    "from tools import para_range\n",
    "\n",
    "N = 3\n",
    "D = 9\n",
    "\n",
    "comm = MPI.COMM_WORLD\n",
    "\n",
    "size = comm.Get_size()\n",
    "rank = comm.Get_rank()\n",
    "\n",
    "if rank == 0 : \n",
    "    v = np.load(\"v.npy\")\n",
    "    V = np.transpose(v).copy()\n",
    "else :\n",
    "    V = np.empty((N, D), dtype = np.float64)\n",
    "\n",
    "ista, iend = para_range(D, size, rank)\n",
    "\n",
    "chunk = iend - ista + 1\n",
    "\n",
    "# Scatterv에 필요한 cnts와 disp 계산\n",
    "cnts = #FIX ME\n",
    "disp = []\n",
    "for i in range (size) :\n",
    "    disp.append #FIX ME\n",
    "\n",
    "V_chunk = np.empty([N, chunk], dtype = np.float64)\n",
    "\n",
    "# V의 분할. 모든 V[i]에 대한 분할 필요\n",
    "for i in range (N) :\n",
    "    comm.Scatterv #FIX ME\n",
    "    \n",
    "# 분할 계산후 reduction\n",
    "for j in range (N) :\n",
    "    for i in range (j) :\n",
    "        coef = -np.dot #FIX ME\n",
    "        coef_all = #FIX ME\n",
    "        V_chunk[j] = V_chunk[j] + coef_all * V_chunk[i]\n",
    "    coef = np.dot(V_chunk[j], V_chunk[j])\n",
    "    coef_all = #FIX ME\n",
    "    V_chunk[j] = V_chunk[j] / np.sqrt(coef_all)\n",
    "\n",
    "print(V_chunk)\n",
    "\n",
    "for i in range (N) :\n",
    "    comm.Gatherv( V_chunk[i], (V[i],cnts), root = 0)\n",
    "\n",
    "if rank == 0 :\n",
    "    print(V)\n",
    "    \n"
   ]
  },
  {
   "cell_type": "code",
   "execution_count": null,
   "metadata": {},
   "outputs": [],
   "source": [
    "! mpirun -np 4 python gs.py"
   ]
  }
 ],
 "metadata": {
  "kernelspec": {
   "display_name": "mpi4py",
   "language": "python",
   "name": "python3"
  },
  "language_info": {
   "codemirror_mode": {
    "name": "ipython",
    "version": 3
   },
   "file_extension": ".py",
   "mimetype": "text/x-python",
   "name": "python",
   "nbconvert_exporter": "python",
   "pygments_lexer": "ipython3",
   "version": "3.11.8"
  }
 },
 "nbformat": 4,
 "nbformat_minor": 2
}
